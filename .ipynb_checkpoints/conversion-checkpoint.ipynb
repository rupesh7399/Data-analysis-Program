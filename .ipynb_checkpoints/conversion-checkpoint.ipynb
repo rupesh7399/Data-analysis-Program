{
 "cells": [
  {
   "cell_type": "code",
   "execution_count": 6,
   "metadata": {},
   "outputs": [
    {
     "name": "stdout",
     "output_type": "stream",
     "text": [
      "       RF\n",
      "0     0.0\n",
      "1     0.0\n",
      "2     0.0\n",
      "3     0.0\n",
      "4     0.0\n",
      "5     0.0\n",
      "6     0.0\n",
      "7     0.0\n",
      "8     0.0\n",
      "9     0.0\n",
      "10    0.0\n",
      "11    0.0\n",
      "12    0.0\n",
      "13    0.0\n",
      "14    0.0\n",
      "15    0.0\n",
      "16    0.0\n",
      "17    0.0\n",
      "18    0.0\n",
      "19    0.0\n",
      "20    0.0\n",
      "21    0.0\n",
      "22    0.0\n",
      "23    0.0\n",
      "24    0.0\n",
      "25    0.0\n",
      "26    0.0\n",
      "27    0.0\n",
      "28    0.0\n",
      "29    0.0\n",
      "...   ...\n",
      "6544  0.0\n",
      "6545  0.0\n",
      "6546  0.0\n",
      "6547  0.0\n",
      "6548  0.0\n",
      "6549  0.0\n",
      "6550  0.0\n",
      "6551  0.0\n",
      "6552  0.0\n",
      "6553  0.0\n",
      "6554  0.0\n",
      "6555  0.0\n",
      "6556  0.0\n",
      "6557  0.0\n",
      "6558  0.0\n",
      "6559  0.0\n",
      "6560  0.0\n",
      "6561  0.0\n",
      "6562  0.0\n",
      "6563  0.0\n",
      "6564  0.0\n",
      "6565  0.0\n",
      "6566  0.0\n",
      "6567  0.0\n",
      "6568  0.0\n",
      "6569  0.0\n",
      "6570  0.0\n",
      "6571  0.0\n",
      "6572  0.0\n",
      "6573  0.0\n",
      "\n",
      "[6574 rows x 1 columns]\n"
     ]
    }
   ],
   "source": [
    "import pandas as pd\n",
    "import numpy as np\n",
    "import sqlite3\n",
    "\n",
    "con = sqlite3.connect(\"db.sqlite3\")\n",
    "df = pd.read_sql_query(\"select RF from weather_data\",con)\n",
    "\n",
    "con.close()\n",
    "df['Date'] = pd.to_datetime(df['DATE'], errors='coerce')\n",
    "        df['Week_Number'] = df['Date'].dt.week\n",
    "        df['Year'] = df['Date'].dt.year\n",
    "        df = df.groupby(['Year','Week_Number']).agg({'RF':'sum'})\n",
    "\n",
    "print(df)"
   ]
  }
 ],
 "metadata": {
  "kernelspec": {
   "display_name": "Python 3",
   "language": "python",
   "name": "python3"
  },
  "language_info": {
   "codemirror_mode": {
    "name": "ipython",
    "version": 3
   },
   "file_extension": ".py",
   "mimetype": "text/x-python",
   "name": "python",
   "nbconvert_exporter": "python",
   "pygments_lexer": "ipython3",
   "version": "3.7.3"
  }
 },
 "nbformat": 4,
 "nbformat_minor": 2
}
