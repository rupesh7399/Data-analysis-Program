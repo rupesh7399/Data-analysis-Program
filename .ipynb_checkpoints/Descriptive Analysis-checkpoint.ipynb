{
 "cells": [
  {
   "cell_type": "code",
   "execution_count": 1,
   "metadata": {},
   "outputs": [
    {
     "ename": "IndentationError",
     "evalue": "unexpected indent (<ipython-input-1-b579204b0660>, line 9)",
     "output_type": "error",
     "traceback": [
      "\u001b[1;36m  File \u001b[1;32m\"<ipython-input-1-b579204b0660>\"\u001b[1;36m, line \u001b[1;32m9\u001b[0m\n\u001b[1;33m    df = df.copy()\u001b[0m\n\u001b[1;37m    ^\u001b[0m\n\u001b[1;31mIndentationError\u001b[0m\u001b[1;31m:\u001b[0m unexpected indent\n"
     ]
    }
   ],
   "source": [
    "import pandas as pd\n",
    "import sqlite3\n",
    "import numpy as np\n",
    "from scipy import stats\n",
    "con = sqlite3.connect(\"db.sqlite3\")\n",
    "df = pd.read_sql_query(\"select RF from weather_data\",con)\n",
    "\n",
    "con.close()\n",
    "    \n",
    "    df = df.loc[:,['RF']]\n",
    "    m = np.mean(df)\n",
    "    mi = df.median()\n",
    "    mo = stats.mode(df)\n",
    "    min = df.min()\n",
    "    max = df.max()\n",
    "    var = np.var(df)\n",
    "    std = np.std(df)\n",
    "    skew = scipy.stats.skew(df)\n",
    "    ku = scipy.stats.kurtosis(df)\n",
    "    a=np.percentile(df,100,axis=0, interpolation='lower')\n",
    "    from scipy.stats import iqr\n",
    "    b=iqr(df, axis=0 , rng=(25, 75), interpolation='lower')\n",
    "\n",
    "print(type(m))\n"
   ]
  },
  {
   "cell_type": "code",
   "execution_count": 9,
   "metadata": {},
   "outputs": [
    {
     "name": "stdout",
     "output_type": "stream",
     "text": [
      "RF    9.439121\n",
      "dtype: float64\n"
     ]
    }
   ],
   "source": [
    "import pandas as pd\n",
    "import numpy as np\n",
    "from scipy import stats\n",
    "import sqlite3\n",
    "con = sqlite3.connect(\"db.sqlite3\")\n",
    "df = pd.read_sql_query(\"select RF from weather_data\",con)\n",
    "df.index = pd.to_datetime(df.index,unit='D')\n",
    "df = df.asfreq('W').ffill()\n",
    "df.reset_index(drop=True, inplace=True)\n",
    "df = df.head(52)\n",
    "mean = df.mean()\n",
    "std = df.std()\n",
    "print(std)\n"
   ]
  },
  {
   "cell_type": "code",
   "execution_count": null,
   "metadata": {},
   "outputs": [],
   "source": []
  },
  {
   "cell_type": "code",
   "execution_count": null,
   "metadata": {},
   "outputs": [],
   "source": []
  }
 ],
 "metadata": {
  "kernelspec": {
   "display_name": "Python 3",
   "language": "python",
   "name": "python3"
  },
  "language_info": {
   "codemirror_mode": {
    "name": "ipython",
    "version": 3
   },
   "file_extension": ".py",
   "mimetype": "text/x-python",
   "name": "python",
   "nbconvert_exporter": "python",
   "pygments_lexer": "ipython3",
   "version": "3.7.3"
  }
 },
 "nbformat": 4,
 "nbformat_minor": 2
}
