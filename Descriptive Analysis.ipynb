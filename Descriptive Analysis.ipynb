{
 "cells": [
  {
   "cell_type": "code",
   "execution_count": 7,
   "metadata": {},
   "outputs": [
    {
     "name": "stdout",
     "output_type": "stream",
     "text": [
      "<class 'pandas.core.series.Series'>\n"
     ]
    }
   ],
   "source": [
    "import pandas as pd\n",
    "import sqlite3\n",
    "import numpy as np\n",
    "from scipy import stats\n",
    "con = sqlite3.connect(\"db.sqlite3\")\n",
    "df = pd.read_sql_query(\"select RF from weather_data\",con)\n",
    "\n",
    "con.close()\n",
    "m = np.mean(df)\n",
    "mi = df.median()\n",
    "mo = stats.mode(df)\n",
    "min = df.min()\n",
    "max = df.max()\n",
    "var = np.var(df)\n",
    "std = np.std(df)\n",
    "#skew = scipy.stats.skew(df)\n",
    "#ku = scipy.stats.kurtosis(df)\n",
    "#a=np.percentile(df,100,axis=0, interpolation='lower')\n",
    "#from scipy.stats import iqr\n",
    "#\n",
    "#b=iqr(df, axis=0 , rng=(25, 75), interpolation='lower')\n",
    "\n",
    "print(type(m))\n"
   ]
  },
  {
   "cell_type": "code",
   "execution_count": 8,
   "metadata": {},
   "outputs": [
    {
     "name": "stdout",
     "output_type": "stream",
     "text": [
      "<class 'pandas.core.series.Series'>\n"
     ]
    }
   ],
   "source": [
    "import pandas as pd\n",
    "import numpy as np\n",
    "from scipy import stats\n",
    "import sqlite3\n",
    "con = sqlite3.connect(\"db.sqlite3\")\n",
    "df = pd.read_sql_query(\"select RF from weather_data\",con)\n",
    "df.index = pd.to_datetime(df.index,unit='D')\n",
    "df = df.asfreq('W').ffill()\n",
    "df.reset_index(drop=True, inplace=True)\n",
    "df = df.head(52)\n",
    "mean = df.mean()\n",
    "std = df.std()\n",
    "print(type(mean))\n"
   ]
  },
  {
   "cell_type": "code",
   "execution_count": null,
   "metadata": {},
   "outputs": [],
   "source": []
  },
  {
   "cell_type": "code",
   "execution_count": null,
   "metadata": {},
   "outputs": [],
   "source": []
  }
 ],
 "metadata": {
  "kernelspec": {
   "display_name": "Python 3",
   "language": "python",
   "name": "python3"
  },
  "language_info": {
   "codemirror_mode": {
    "name": "ipython",
    "version": 3
   },
   "file_extension": ".py",
   "mimetype": "text/x-python",
   "name": "python",
   "nbconvert_exporter": "python",
   "pygments_lexer": "ipython3",
   "version": "3.7.3"
  }
 },
 "nbformat": 4,
 "nbformat_minor": 2
}
